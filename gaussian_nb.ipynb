{
 "cells": [
  {
   "cell_type": "markdown",
   "id": "523a99d4-8815-40ad-9f6f-9427ab437e83",
   "metadata": {},
   "source": [
    "#*importing data using pandas*"
   ]
  },
  {
   "cell_type": "code",
   "execution_count": 10,
   "id": "cac74d79-6361-4319-89bf-9f65500be84e",
   "metadata": {},
   "outputs": [
    {
     "data": {
      "text/html": [
       "<div>\n",
       "<style scoped>\n",
       "    .dataframe tbody tr th:only-of-type {\n",
       "        vertical-align: middle;\n",
       "    }\n",
       "\n",
       "    .dataframe tbody tr th {\n",
       "        vertical-align: top;\n",
       "    }\n",
       "\n",
       "    .dataframe thead th {\n",
       "        text-align: right;\n",
       "    }\n",
       "</style>\n",
       "<table border=\"1\" class=\"dataframe\">\n",
       "  <thead>\n",
       "    <tr style=\"text-align: right;\">\n",
       "      <th></th>\n",
       "      <th>Glucose</th>\n",
       "      <th>BloodPressure</th>\n",
       "      <th>Insulin</th>\n",
       "      <th>BMI</th>\n",
       "      <th>Age</th>\n",
       "      <th>Outcome</th>\n",
       "    </tr>\n",
       "  </thead>\n",
       "  <tbody>\n",
       "    <tr>\n",
       "      <th>0</th>\n",
       "      <td>148</td>\n",
       "      <td>72</td>\n",
       "      <td>0</td>\n",
       "      <td>33.6</td>\n",
       "      <td>50</td>\n",
       "      <td>1</td>\n",
       "    </tr>\n",
       "    <tr>\n",
       "      <th>1</th>\n",
       "      <td>85</td>\n",
       "      <td>66</td>\n",
       "      <td>0</td>\n",
       "      <td>26.6</td>\n",
       "      <td>31</td>\n",
       "      <td>0</td>\n",
       "    </tr>\n",
       "    <tr>\n",
       "      <th>2</th>\n",
       "      <td>183</td>\n",
       "      <td>64</td>\n",
       "      <td>0</td>\n",
       "      <td>23.3</td>\n",
       "      <td>32</td>\n",
       "      <td>1</td>\n",
       "    </tr>\n",
       "    <tr>\n",
       "      <th>3</th>\n",
       "      <td>89</td>\n",
       "      <td>66</td>\n",
       "      <td>94</td>\n",
       "      <td>28.1</td>\n",
       "      <td>21</td>\n",
       "      <td>0</td>\n",
       "    </tr>\n",
       "    <tr>\n",
       "      <th>4</th>\n",
       "      <td>137</td>\n",
       "      <td>40</td>\n",
       "      <td>168</td>\n",
       "      <td>43.1</td>\n",
       "      <td>33</td>\n",
       "      <td>1</td>\n",
       "    </tr>\n",
       "    <tr>\n",
       "      <th>5</th>\n",
       "      <td>116</td>\n",
       "      <td>74</td>\n",
       "      <td>0</td>\n",
       "      <td>25.6</td>\n",
       "      <td>30</td>\n",
       "      <td>0</td>\n",
       "    </tr>\n",
       "    <tr>\n",
       "      <th>6</th>\n",
       "      <td>78</td>\n",
       "      <td>50</td>\n",
       "      <td>88</td>\n",
       "      <td>31.0</td>\n",
       "      <td>26</td>\n",
       "      <td>1</td>\n",
       "    </tr>\n",
       "    <tr>\n",
       "      <th>7</th>\n",
       "      <td>115</td>\n",
       "      <td>0</td>\n",
       "      <td>0</td>\n",
       "      <td>35.3</td>\n",
       "      <td>29</td>\n",
       "      <td>0</td>\n",
       "    </tr>\n",
       "    <tr>\n",
       "      <th>8</th>\n",
       "      <td>197</td>\n",
       "      <td>70</td>\n",
       "      <td>543</td>\n",
       "      <td>30.5</td>\n",
       "      <td>53</td>\n",
       "      <td>1</td>\n",
       "    </tr>\n",
       "    <tr>\n",
       "      <th>9</th>\n",
       "      <td>125</td>\n",
       "      <td>96</td>\n",
       "      <td>0</td>\n",
       "      <td>0.0</td>\n",
       "      <td>54</td>\n",
       "      <td>1</td>\n",
       "    </tr>\n",
       "  </tbody>\n",
       "</table>\n",
       "</div>"
      ],
      "text/plain": [
       "   Glucose  BloodPressure  Insulin   BMI  Age  Outcome\n",
       "0      148             72        0  33.6   50        1\n",
       "1       85             66        0  26.6   31        0\n",
       "2      183             64        0  23.3   32        1\n",
       "3       89             66       94  28.1   21        0\n",
       "4      137             40      168  43.1   33        1\n",
       "5      116             74        0  25.6   30        0\n",
       "6       78             50       88  31.0   26        1\n",
       "7      115              0        0  35.3   29        0\n",
       "8      197             70      543  30.5   53        1\n",
       "9      125             96        0   0.0   54        1"
      ]
     },
     "execution_count": 10,
     "metadata": {},
     "output_type": "execute_result"
    }
   ],
   "source": [
    "import pandas as pd\n",
    "import seaborn as sns\n",
    "import matplotlib.pyplot as plt\n",
    "import numpy as np\n",
    "from math import sqrt,exp,pi\n",
    "from sklearn.model_selection import train_test_split\n",
    "from sklearn.metrics import accuracy_score\n",
    "data=pd.read_csv('diabetes.csv')                               # In diabetes column 1-represent person suffering with diabetes\n",
    "data=data.drop([\"Pregnancies\",\"SkinThickness\",\"DiabetesPedigreeFunction\"],axis=1) # 0- represent person not suffering with diabetes\n",
    "data.head(10)"
   ]
  },
  {
   "cell_type": "code",
   "execution_count": 28,
   "id": "f36ceb56-876c-4b77-b414-dd74b15ea81b",
   "metadata": {},
   "outputs": [
    {
     "data": {
      "text/html": [
       "<div>\n",
       "<style scoped>\n",
       "    .dataframe tbody tr th:only-of-type {\n",
       "        vertical-align: middle;\n",
       "    }\n",
       "\n",
       "    .dataframe tbody tr th {\n",
       "        vertical-align: top;\n",
       "    }\n",
       "\n",
       "    .dataframe thead th {\n",
       "        text-align: right;\n",
       "    }\n",
       "</style>\n",
       "<table border=\"1\" class=\"dataframe\">\n",
       "  <thead>\n",
       "    <tr style=\"text-align: right;\">\n",
       "      <th></th>\n",
       "      <th>Glucose</th>\n",
       "      <th>BloodPressure</th>\n",
       "      <th>Insulin</th>\n",
       "      <th>BMI</th>\n",
       "      <th>Age</th>\n",
       "      <th>Outcome</th>\n",
       "    </tr>\n",
       "  </thead>\n",
       "  <tbody>\n",
       "    <tr>\n",
       "      <th>count</th>\n",
       "      <td>768.000000</td>\n",
       "      <td>768.000000</td>\n",
       "      <td>768.000000</td>\n",
       "      <td>768.000000</td>\n",
       "      <td>768.000000</td>\n",
       "      <td>768.000000</td>\n",
       "    </tr>\n",
       "    <tr>\n",
       "      <th>mean</th>\n",
       "      <td>120.894531</td>\n",
       "      <td>69.105469</td>\n",
       "      <td>79.799479</td>\n",
       "      <td>31.992578</td>\n",
       "      <td>33.240885</td>\n",
       "      <td>0.348958</td>\n",
       "    </tr>\n",
       "    <tr>\n",
       "      <th>std</th>\n",
       "      <td>31.972618</td>\n",
       "      <td>19.355807</td>\n",
       "      <td>115.244002</td>\n",
       "      <td>7.884160</td>\n",
       "      <td>11.760232</td>\n",
       "      <td>0.476951</td>\n",
       "    </tr>\n",
       "    <tr>\n",
       "      <th>min</th>\n",
       "      <td>0.000000</td>\n",
       "      <td>0.000000</td>\n",
       "      <td>0.000000</td>\n",
       "      <td>0.000000</td>\n",
       "      <td>21.000000</td>\n",
       "      <td>0.000000</td>\n",
       "    </tr>\n",
       "    <tr>\n",
       "      <th>25%</th>\n",
       "      <td>99.000000</td>\n",
       "      <td>62.000000</td>\n",
       "      <td>0.000000</td>\n",
       "      <td>27.300000</td>\n",
       "      <td>24.000000</td>\n",
       "      <td>0.000000</td>\n",
       "    </tr>\n",
       "    <tr>\n",
       "      <th>50%</th>\n",
       "      <td>117.000000</td>\n",
       "      <td>72.000000</td>\n",
       "      <td>30.500000</td>\n",
       "      <td>32.000000</td>\n",
       "      <td>29.000000</td>\n",
       "      <td>0.000000</td>\n",
       "    </tr>\n",
       "    <tr>\n",
       "      <th>75%</th>\n",
       "      <td>140.250000</td>\n",
       "      <td>80.000000</td>\n",
       "      <td>127.250000</td>\n",
       "      <td>36.600000</td>\n",
       "      <td>41.000000</td>\n",
       "      <td>1.000000</td>\n",
       "    </tr>\n",
       "    <tr>\n",
       "      <th>max</th>\n",
       "      <td>199.000000</td>\n",
       "      <td>122.000000</td>\n",
       "      <td>846.000000</td>\n",
       "      <td>67.100000</td>\n",
       "      <td>81.000000</td>\n",
       "      <td>1.000000</td>\n",
       "    </tr>\n",
       "  </tbody>\n",
       "</table>\n",
       "</div>"
      ],
      "text/plain": [
       "          Glucose  BloodPressure     Insulin         BMI         Age  \\\n",
       "count  768.000000     768.000000  768.000000  768.000000  768.000000   \n",
       "mean   120.894531      69.105469   79.799479   31.992578   33.240885   \n",
       "std     31.972618      19.355807  115.244002    7.884160   11.760232   \n",
       "min      0.000000       0.000000    0.000000    0.000000   21.000000   \n",
       "25%     99.000000      62.000000    0.000000   27.300000   24.000000   \n",
       "50%    117.000000      72.000000   30.500000   32.000000   29.000000   \n",
       "75%    140.250000      80.000000  127.250000   36.600000   41.000000   \n",
       "max    199.000000     122.000000  846.000000   67.100000   81.000000   \n",
       "\n",
       "          Outcome  \n",
       "count  768.000000  \n",
       "mean     0.348958  \n",
       "std      0.476951  \n",
       "min      0.000000  \n",
       "25%      0.000000  \n",
       "50%      0.000000  \n",
       "75%      1.000000  \n",
       "max      1.000000  "
      ]
     },
     "execution_count": 28,
     "metadata": {},
     "output_type": "execute_result"
    }
   ],
   "source": [
    "data.describe()# knowing about data set "
   ]
  },
  {
   "cell_type": "code",
   "execution_count": 29,
   "id": "0cfd62b3-5f96-4ec6-8dc8-bf071643149d",
   "metadata": {},
   "outputs": [
    {
     "name": "stdout",
     "output_type": "stream",
     "text": [
      "2\n",
      "(768, 6)\n",
      "4608\n",
      "Outcome\n",
      "0    500\n",
      "1    268\n",
      "Name: count, dtype: int64\n"
     ]
    }
   ],
   "source": [
    "print(data.ndim)\n",
    "print(data.shape)\n",
    "print(data.size)\n",
    "print(data[\"Outcome\"].value_counts())# finding data is balanced or not"
   ]
  },
  {
   "cell_type": "code",
   "execution_count": 33,
   "id": "39b7eca8-335b-4430-81df-52d3b68a0b4d",
   "metadata": {},
   "outputs": [
    {
     "data": {
      "text/plain": [
       "count    768.000000\n",
       "mean     120.894531\n",
       "std       31.972618\n",
       "min        0.000000\n",
       "25%       99.000000\n",
       "50%      117.000000\n",
       "75%      140.250000\n",
       "max      199.000000\n",
       "Name: Glucose, dtype: float64"
      ]
     },
     "execution_count": 33,
     "metadata": {},
     "output_type": "execute_result"
    }
   ],
   "source": [
    "data[\"Glucose\"].describe()"
   ]
  },
  {
   "cell_type": "code",
   "execution_count": 32,
   "id": "06e75fe1-8bfa-495f-b4f5-c4d3ba255d4d",
   "metadata": {},
   "outputs": [
    {
     "data": {
      "text/plain": [
       "count    768.000000\n",
       "mean      69.105469\n",
       "std       19.355807\n",
       "min        0.000000\n",
       "25%       62.000000\n",
       "50%       72.000000\n",
       "75%       80.000000\n",
       "max      122.000000\n",
       "Name: BloodPressure, dtype: float64"
      ]
     },
     "execution_count": 32,
     "metadata": {},
     "output_type": "execute_result"
    }
   ],
   "source": [
    "data[\"BloodPressure\"].describe()"
   ]
  },
  {
   "cell_type": "code",
   "execution_count": 35,
   "id": "104333d5-ed2c-4cff-a324-ec9f3ae8ae07",
   "metadata": {},
   "outputs": [
    {
     "data": {
      "text/plain": [
       "count    768.000000\n",
       "mean      33.240885\n",
       "std       11.760232\n",
       "min       21.000000\n",
       "25%       24.000000\n",
       "50%       29.000000\n",
       "75%       41.000000\n",
       "max       81.000000\n",
       "Name: Age, dtype: float64"
      ]
     },
     "execution_count": 35,
     "metadata": {},
     "output_type": "execute_result"
    }
   ],
   "source": [
    "data[\"Age\"].describe()"
   ]
  },
  {
   "cell_type": "code",
   "execution_count": 34,
   "id": "cb1a2da1-baa4-48e2-b790-7a657e397215",
   "metadata": {},
   "outputs": [],
   "source": [
    "X=data.iloc[:,:5].values\n",
    "Y=data.iloc[:,5:6].values\n",
    "X_train,X_test,Y_train,Y_test=train_test_split(X,Y,test_size=0.3,random_state=5,shuffle=True)\n",
    "#  no of rows in data set=768\n",
    "#  no of rows in train_data=537\n",
    "#  no of rows in test_data=231"
   ]
  },
  {
   "cell_type": "markdown",
   "id": "06f181a8-f227-4c1b-9fb8-74053ea80fd4",
   "metadata": {},
   "source": [
    "## *training the model*"
   ]
  },
  {
   "cell_type": "code",
   "execution_count": 35,
   "id": "cc874e14-9be1-47d3-9c7b-b901d28995fb",
   "metadata": {},
   "outputs": [],
   "source": [
    "\n",
    "def mean_of(col,tar):\n",
    "    sum=c=0\n",
    "    r=len(X_train)\n",
    "    for i in range(r):\n",
    "        if(Y_train[i][0]==tar):\n",
    "            sum+=X_train[i][col]\n",
    "            c+=1\n",
    "    return sum/c\n",
    "\n",
    "def var(col,tar,m):\n",
    "    v=c=0\n",
    "    r=len(X_train)\n",
    "    for i in range(r):\n",
    "        if(Y_train[i][0]==tar):\n",
    "            t=(X_train[i][col]-m)\n",
    "            v+=t*t\n",
    "            c+=1\n",
    "    return v/(c-1)\n",
    "\n",
    "d={1:{\"Glucose\":{},\"BloodPressure\":{},\"Insulin\":{},\"BMI\":{},\"Age\":{}},0:{\"Glucose\":{},\"BloodPressure\":{},\"Insulin\":{},\"BMI\":{},\"Age\":{}}}\n",
    "d[1][\"Glucose\"][\"mean\"]=mean_of(0,1)\n",
    "d[1][\"Glucose\"][\"vari\"]=var(0,1,d[1][\"Glucose\"][\"mean\"])\n",
    "\n",
    "d[1][\"BloodPressure\"][\"mean\"]=mean_of(1,1)\n",
    "d[1][\"BloodPressure\"][\"vari\"]=var(1,1,d[1][\"BloodPressure\"][\"mean\"])\n",
    "\n",
    "d[1][\"Insulin\"][\"mean\"]=mean_of(2,1)\n",
    "d[1][\"Insulin\"][\"vari\"]=var(2,1,d[1][\"Insulin\"][\"mean\"])\n",
    "\n",
    "d[1][\"BMI\"][\"mean\"]=mean_of(3,1)\n",
    "d[1][\"BMI\"][\"vari\"]=var(3,1,d[1][\"BMI\"][\"mean\"])\n",
    "\n",
    "d[1][\"Age\"][\"mean\"]=mean_of(4,1)\n",
    "d[1][\"Age\"][\"vari\"]=var(4,1,d[1][\"Age\"][\"mean\"])\n",
    "\n",
    "d[0][\"Glucose\"][\"mean\"]=mean_of(0,0)\n",
    "d[0][\"Glucose\"][\"vari\"]=var(0,0,d[0][\"Glucose\"][\"mean\"])\n",
    "\n",
    "d[0][\"BloodPressure\"][\"mean\"]=mean_of(1,0)\n",
    "d[0][\"BloodPressure\"][\"vari\"]=var(1,0,d[0][\"BloodPressure\"][\"mean\"])\n",
    "\n",
    "d[0][\"Insulin\"][\"mean\"]=mean_of(2,0)\n",
    "d[0][\"Insulin\"][\"vari\"]=var(2,0,d[0][\"Insulin\"][\"mean\"])\n",
    "\n",
    "d[0][\"BMI\"][\"mean\"]=mean_of(3,0)\n",
    "d[0][\"BMI\"][\"vari\"]=var(3,0,d[0][\"BMI\"][\"mean\"])\n",
    "\n",
    "d[0][\"Age\"][\"mean\"]=mean_of(4,0)\n",
    "d[0][\"Age\"][\"vari\"]=var(4,0,d[0][\"Age\"][\"mean\"])\n",
    "\n",
    "#prior probabilities\n",
    "prob_of_1=sum([1 for i in range(len(Y_train)) if Y_train[i][0]==1])/len(Y_train)\n",
    "prob_of_0=1-prob_of_1"
   ]
  },
  {
   "cell_type": "markdown",
   "id": "d0ec3bab-5019-4409-a134-a5fd04d6119e",
   "metadata": {},
   "source": [
    "## *Testing the Model*"
   ]
  },
  {
   "cell_type": "code",
   "execution_count": 36,
   "id": "8c6cc3b6-9af0-4c4d-8bbd-bc261510ba2b",
   "metadata": {},
   "outputs": [],
   "source": [
    "def pdf(mu,var,x):\n",
    "    t=x-mu\n",
    "    t=t*t\n",
    "    t=t/(2*var)\n",
    "    t=exp(-t)\n",
    "    return t/(2*pi*var)\n",
    "    \n",
    "predi_list=[]\n",
    "n=len(X_test)\n",
    "for i in range(n):\n",
    "    Pgl_1=pdf(d[1][\"Glucose\"][\"mean\"],d[1][\"Glucose\"][\"vari\"],X_test[i][0])\n",
    "    Pbp_1=pdf(d[1][\"BloodPressure\"][\"mean\"],d[1][\"BloodPressure\"][\"vari\"],X_test[i][1])\n",
    "    Pin_1=pdf(d[1][\"Insulin\"][\"mean\"],d[1][\"Insulin\"][\"vari\"],X_test[i][2])\n",
    "    Pbm_1=pdf(d[1][\"BMI\"][\"mean\"],d[1][\"BMI\"][\"vari\"],X_test[i][3])\n",
    "    Pag_1=pdf(d[1][\"Age\"][\"mean\"],d[1][\"Age\"][\"vari\"],X_test[i][4])\n",
    "    P_1=(Pgl_1 *Pbp_1 *Pin_1 *Pbm_1 *Pag_1)*(prob_of_1)\n",
    "\n",
    "    Pgl_0=pdf(d[0][\"Glucose\"][\"mean\"],d[0][\"Glucose\"][\"vari\"],X_test[i][0])\n",
    "    Pbp_0=pdf(d[0][\"BloodPressure\"][\"mean\"],d[0][\"BloodPressure\"][\"vari\"],X_test[i][1])\n",
    "    Pin_0=pdf(d[0][\"Insulin\"][\"mean\"],d[0][\"Insulin\"][\"vari\"],X_test[i][2])\n",
    "    Pbm_0=pdf(d[0][\"BMI\"][\"mean\"],d[0][\"BMI\"][\"vari\"],X_test[i][3])\n",
    "    Pag_0=pdf(d[0][\"Age\"][\"mean\"],d[0][\"Age\"][\"vari\"],X_test[i][4])\n",
    "    P_0=(Pgl_0 *Pbp_0 *Pin_0 *Pbm_0 *Pag_0)*(prob_of_0)\n",
    "\n",
    "    if(P_1 > P_0):\n",
    "        predi_list.append(1)\n",
    "    else:\n",
    "        predi_list.append(0)\n",
    "\n",
    "    "
   ]
  },
  {
   "cell_type": "markdown",
   "id": "65cc54f6-1f46-46b6-ae0d-a9df084c5b60",
   "metadata": {},
   "source": [
    "## *finding accuracy of model*"
   ]
  },
  {
   "cell_type": "code",
   "execution_count": 37,
   "id": "72d36a40-fdf6-440a-bfff-8afad7e79dc1",
   "metadata": {},
   "outputs": [
    {
     "name": "stdout",
     "output_type": "stream",
     "text": [
      "Accuracy of model:0.7835497835497836\n"
     ]
    }
   ],
   "source": [
    "n=len(Y_test)\n",
    "c=0\n",
    "for i in range(n):\n",
    "    if(Y_test[i][0]==predi_list[i]):\n",
    "        c+=1\n",
    "print(\"Accuracy of model:\"+str(c/n))"
   ]
  },
  {
   "cell_type": "code",
   "execution_count": null,
   "id": "e85e2125-4d83-4d0c-94d8-8e000a1570be",
   "metadata": {},
   "outputs": [],
   "source": []
  }
 ],
 "metadata": {
  "kernelspec": {
   "display_name": "Python 3 (ipykernel)",
   "language": "python",
   "name": "python3"
  },
  "language_info": {
   "codemirror_mode": {
    "name": "ipython",
    "version": 3
   },
   "file_extension": ".py",
   "mimetype": "text/x-python",
   "name": "python",
   "nbconvert_exporter": "python",
   "pygments_lexer": "ipython3",
   "version": "3.8.10"
  }
 },
 "nbformat": 4,
 "nbformat_minor": 5
}
